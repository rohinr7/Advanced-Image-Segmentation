{
 "cells": [
  {
   "cell_type": "code",
   "execution_count": 2,
   "metadata": {
    "vscode": {
     "languageId": "plaintext"
    }
   },
   "outputs": [
    {
     "ename": "ModuleNotFoundError",
     "evalue": "No module named 'src'",
     "output_type": "error",
     "traceback": [
      "\u001b[0;31m---------------------------------------------------------------------------\u001b[0m",
      "\u001b[0;31mModuleNotFoundError\u001b[0m                       Traceback (most recent call last)",
      "Cell \u001b[0;32mIn [2], line 5\u001b[0m\n\u001b[1;32m      3\u001b[0m \u001b[38;5;28;01mfrom\u001b[39;00m \u001b[38;5;21;01mipywidgets\u001b[39;00m \u001b[38;5;28;01mimport\u001b[39;00m interact, widgets, VBox, HBox\n\u001b[1;32m      4\u001b[0m \u001b[38;5;28;01mimport\u001b[39;00m \u001b[38;5;21;01mnumpy\u001b[39;00m \u001b[38;5;28;01mas\u001b[39;00m \u001b[38;5;21;01mnp\u001b[39;00m\n\u001b[0;32m----> 5\u001b[0m \u001b[38;5;28;01mfrom\u001b[39;00m \u001b[38;5;21;01msrc\u001b[39;00m\u001b[38;5;21;01m.\u001b[39;00m\u001b[38;5;21;01mdataset\u001b[39;00m \u001b[38;5;28;01mimport\u001b[39;00m ProjectDatasets\n\u001b[1;32m      6\u001b[0m \u001b[38;5;28;01mfrom\u001b[39;00m \u001b[38;5;21;01msrc\u001b[39;00m\u001b[38;5;21;01m.\u001b[39;00m\u001b[38;5;21;01mmodels\u001b[39;00m\u001b[38;5;21;01m.\u001b[39;00m\u001b[38;5;21;01mUNet\u001b[39;00m \u001b[38;5;28;01mimport\u001b[39;00m UNet\n",
      "\u001b[0;31mModuleNotFoundError\u001b[0m: No module named 'src'"
     ]
    }
   ],
   "source": [
    "import torch\n",
    "import matplotlib.pyplot as plt\n",
    "from ipywidgets import interact, widgets, VBox, HBox\n",
    "import numpy as np\n",
    "from src.dataset import ProjectDatasets\n",
    "from src.models.UNet import UNet"
   ]
  },
  {
   "cell_type": "code",
   "execution_count": null,
   "metadata": {},
   "outputs": [],
   "source": [
    "# Step 1: Load Model Output for Visualization\n",
    "def load_model_outputs(checkpoint_path, model, dataloader, device='cuda'):\n",
    "    \"\"\"\n",
    "    Load model output for visualization given a specific checkpoint.\n",
    "    \"\"\"\n",
    "    model.eval()\n",
    "    model.to(device)\n",
    "    \n",
    "    # Load checkpoint\n",
    "    checkpoint = torch.load(checkpoint_path)\n",
    "    model.load_state_dict(checkpoint['model_state_dict'])\n",
    "    \n",
    "    original_images = []\n",
    "    ground_truths = []\n",
    "    predictions = []\n",
    "    \n",
    "    with torch.no_grad():\n",
    "        for inputs, targets in dataloader:\n",
    "            inputs, targets = inputs.to(device), targets.to(device)\n",
    "            outputs = model(inputs)\n",
    "            \n",
    "            original_images.append(inputs.cpu().numpy())\n",
    "            ground_truths.append(targets.cpu().numpy())\n",
    "            predictions.append(outputs.argmax(dim=1).cpu().numpy())\n",
    "    \n",
    "    # Combine all batches\n",
    "    original_images = np.concatenate(original_images, axis=0)\n",
    "    ground_truths = np.concatenate(ground_truths, axis=0)\n",
    "    predictions = np.concatenate(predictions, axis=0)\n",
    "    \n",
    "    return original_images, ground_truths, predictions\n",
    "\n",
    "# Step 2: Define Visualization Function\n",
    "def display_image(index, original_images, ground_truths, predictions):\n",
    "    \"\"\"\n",
    "    Display original image, ground truth, and model prediction side by side.\n",
    "    \"\"\"\n",
    "    fig, axes = plt.subplots(1, 3, figsize=(15, 5))\n",
    "    \n",
    "    # Original Image\n",
    "    axes[0].imshow(original_images[index].transpose(1, 2, 0))  # Assuming (C, H, W) format\n",
    "    axes[0].set_title(\"Original Image\")\n",
    "    axes[0].axis(\"off\")\n",
    "    \n",
    "    # Ground Truth\n",
    "    axes[1].imshow(ground_truths[index], cmap=\"gray\")\n",
    "    axes[1].set_title(\"Ground Truth\")\n",
    "    axes[1].axis(\"off\")\n",
    "    \n",
    "    # Model Prediction\n",
    "    axes[2].imshow(predictions[index], cmap=\"gray\")\n",
    "    axes[2].set_title(\"Model Prediction\")\n",
    "    axes[2].axis(\"off\")\n",
    "    \n",
    "    plt.show()\n",
    "\n",
    "# Step 3: Interactive Playback with `ipywidgets`\n",
    "def create_interactive_visualizer(original_images, ground_truths, predictions):\n",
    "    \"\"\"\n",
    "    Create an interactive visualization with ipywidgets.\n",
    "    \"\"\"\n",
    "    num_images = len(original_images)\n",
    "\n",
    "    # Slider to navigate images\n",
    "    slider = widgets.IntSlider(min=0, max=num_images-1, step=1, description=\"Image:\")\n",
    "    play_button = widgets.Play(interval=500)  # Play button for auto-sliding\n",
    "    widgets.jslink((play_button, 'value'), (slider, 'value'))  # Link slider to play button\n",
    "\n",
    "    # Interactive plot\n",
    "    interact(display_image, \n",
    "             index=slider, \n",
    "             original_images=widgets.fixed(original_images), \n",
    "             ground_truths=widgets.fixed(ground_truths), \n",
    "             predictions=widgets.fixed(predictions))\n",
    "\n",
    "    # Combine play button and slider\n",
    "    controls = HBox([play_button, slider])\n",
    "    display(VBox([controls]))\n",
    "\n",
    "# Step 4: Main Function to Load Checkpoints and Visualize\n",
    "def main(checkpoint_path, model, dataloader):\n",
    "    \"\"\"\n",
    "    Main function to load model checkpoint, evaluate on dataset, and visualize results.\n",
    "    \"\"\"\n",
    "    original_images, ground_truths, predictions = load_model_outputs(checkpoint_path, model, dataloader)\n",
    "    create_interactive_visualizer(original_images, ground_truths, predictions)\n",
    "\n",
    "# Step 5: Run the Visualizer\n",
    "if __name__ == \"__main__\":\n",
    "    # Set up paths and model\n",
    "    checkpoint_path = \"../experiments/experiment_20241220-131602/checkpoints/checkpoint_epoch_10.pth\"\n",
    "    model = ...  # Load your model here\n",
    "    model = UNet(in_channels=3, out_channels=30)\n",
    "    model = model.to(device)\n",
    "    dataloader = ...  # Validation or test DataLoader\n",
    "    device = 'cuda' if torch.cuda.is_available() else 'cpu'\n",
    "    \n",
    "    # Run the visualizer\n",
    "    main(checkpoint_path, model, dataloader)"
   ]
  },
  {
   "cell_type": "code",
   "execution_count": null,
   "metadata": {},
   "outputs": [],
   "source": []
  },
  {
   "cell_type": "code",
   "execution_count": null,
   "metadata": {},
   "outputs": [],
   "source": []
  },
  {
   "cell_type": "code",
   "execution_count": null,
   "metadata": {},
   "outputs": [],
   "source": []
  }
 ],
 "metadata": {
  "kernelspec": {
   "display_name": "Python (tensorflow2)",
   "language": "python",
   "name": "tensorflow2"
  },
  "language_info": {
   "codemirror_mode": {
    "name": "ipython",
    "version": 3
   },
   "file_extension": ".py",
   "mimetype": "text/x-python",
   "name": "python",
   "nbconvert_exporter": "python",
   "pygments_lexer": "ipython3",
   "version": "3.11.2"
  }
 },
 "nbformat": 4,
 "nbformat_minor": 2
}
